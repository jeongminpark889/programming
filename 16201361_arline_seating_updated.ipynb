{
 "cells": [
  {
   "cell_type": "code",
   "execution_count": 3,
   "metadata": {
    "collapsed": true
   },
   "outputs": [],
   "source": [
    "import numpy as np \n",
    "from numpy import matrix\n",
    "import pandas as pd \n",
    "import sqlite3\n",
    "from __future__ import division, print_function \n",
    "import math\n"
   ]
  },
  {
   "cell_type": "code",
   "execution_count": 4,
   "metadata": {
    "collapsed": false
   },
   "outputs": [],
   "source": [
    "con = sqlite3.connect('airline_seating.db')\n",
    "con.text_factory = str\n",
    "cur = con.cursor()"
   ]
  },
  {
   "cell_type": "code",
   "execution_count": 5,
   "metadata": {
    "collapsed": true
   },
   "outputs": [],
   "source": [
    "def file_read_total_bookings():\n",
    "    total_bookings=pd.read_csv('bookings.csv', names=['passsenger_name','passenger_count'])\n",
    "    total_count = np.array([total_bookings['passenger_count']])\n",
    "    total_bookings_array=np.array(total_bookings)\n",
    "    #print(total_count)\n",
    "    return total_bookings_array, total_count\n",
    "\n",
    "total_bookings_array,total_count=file_read_total_bookings()"
   ]
  },
  {
   "cell_type": "code",
   "execution_count": 6,
   "metadata": {
    "collapsed": false
   },
   "outputs": [
    {
     "name": "stdout",
     "output_type": "stream",
     "text": [
      "[['1' 'A' 'Donald Trump']\n",
      " ['1' 'C' 'Hilary Clinton']]\n"
     ]
    }
   ],
   "source": [
    "def seats_occupied_in_seating_table_db():\n",
    "    seats_occupied_in_seating = []\n",
    "    for row in cur.execute('select row, seat,name from seating where name != \"\" group by row,seat '):\n",
    "        seats_occupied_in_seating.append(row)\n",
    "        seats_occupied_in_seating_array=list(seats_occupied_in_seating)\n",
    "        seats_occupied_in_seating_array=np.array(seats_occupied_in_seating_array)\n",
    "    return seats_occupied_in_seating_array\n",
    "\n",
    "seats_occupied_in_seating_array=seats_occupied_in_seating_table_db()\n",
    "print(seats_occupied_in_seating_array)\n"
   ]
  },
  {
   "cell_type": "code",
   "execution_count": 7,
   "metadata": {
    "collapsed": false
   },
   "outputs": [
    {
     "name": "stdout",
     "output_type": "stream",
     "text": [
      "[['1' 'D' '']\n",
      " ['1' 'F' '']\n",
      " ['2' 'A' '']\n",
      " ['2' 'C' '']\n",
      " ['2' 'D' '']\n",
      " ['2' 'F' '']\n",
      " ['3' 'A' '']\n",
      " ['3' 'C' '']\n",
      " ['3' 'D' '']\n",
      " ['3' 'F' '']\n",
      " ['4' 'A' '']\n",
      " ['4' 'C' '']\n",
      " ['4' 'D' '']\n",
      " ['4' 'F' '']\n",
      " ['5' 'A' '']\n",
      " ['5' 'C' '']\n",
      " ['5' 'D' '']\n",
      " ['5' 'F' '']\n",
      " ['6' 'A' '']\n",
      " ['6' 'C' '']\n",
      " ['6' 'D' '']\n",
      " ['6' 'F' '']\n",
      " ['7' 'A' '']\n",
      " ['7' 'C' '']\n",
      " ['7' 'D' '']\n",
      " ['7' 'F' '']\n",
      " ['8' 'A' '']\n",
      " ['8' 'C' '']\n",
      " ['8' 'D' '']\n",
      " ['8' 'F' '']\n",
      " ['9' 'A' '']\n",
      " ['9' 'C' '']\n",
      " ['9' 'D' '']\n",
      " ['9' 'F' '']\n",
      " ['10' 'A' '']\n",
      " ['10' 'C' '']\n",
      " ['10' 'D' '']\n",
      " ['10' 'F' '']\n",
      " ['11' 'A' '']\n",
      " ['11' 'C' '']\n",
      " ['11' 'D' '']\n",
      " ['11' 'F' '']\n",
      " ['12' 'A' '']\n",
      " ['12' 'C' '']\n",
      " ['12' 'D' '']\n",
      " ['12' 'F' '']\n",
      " ['13' 'A' '']\n",
      " ['13' 'C' '']\n",
      " ['13' 'D' '']\n",
      " ['13' 'F' '']\n",
      " ['14' 'A' '']\n",
      " ['14' 'C' '']\n",
      " ['14' 'D' '']\n",
      " ['14' 'F' '']\n",
      " ['15' 'A' '']\n",
      " ['15' 'C' '']\n",
      " ['15' 'D' '']\n",
      " ['15' 'F' '']]\n"
     ]
    }
   ],
   "source": [
    "def seats_not_occupied_in_seating_table_db():\n",
    "    seats_not_occupied_in_seating = []\n",
    "    for row in cur.execute('select row, seat,name from seating where name = \"\" group by row,seat '):\n",
    "        seats_not_occupied_in_seating.append(row)\n",
    "        Seats_no_occupied_array=list(seats_not_occupied_in_seating)\n",
    "        Seats_no_occupied_array=np.array(Seats_no_occupied_array)\n",
    "    return Seats_no_occupied_array\n",
    "\n",
    "Seats_no_occupied_array=seats_not_occupied_in_seating_table_db()\n",
    "print(Seats_no_occupied_array)\n",
    "\n",
    "\n"
   ]
  },
  {
   "cell_type": "code",
   "execution_count": 8,
   "metadata": {
    "collapsed": false
   },
   "outputs": [],
   "source": [
    "\n",
    "def update_tables(cnt_book,cnt_name_passenger,counter):\n",
    "    data = cur.execute('''SELECT * From seating''')\n",
    "    data=data.fetchall()\n",
    "    for j in xrange(counter,counter+cnt_book,1):\n",
    "          if Seats_no_occupied_array[j][2]==\"\":\n",
    "                Seats_no_occupied_array[j][2]=cnt_name_passenger\n",
    "                cur.execute('''UPDATE seating SET name=? WHERE row=? and seat=?''', (cnt_name_passenger,Seats_no_occupied_array[j][0],Seats_no_occupied_array[j][1]))\n",
    "           \n",
    "                \n",
    "    return \n",
    "\n"
   ]
  },
  {
   "cell_type": "code",
   "execution_count": 9,
   "metadata": {
    "collapsed": false
   },
   "outputs": [
    {
     "ename": "NameError",
     "evalue": "name 'xrange' is not defined",
     "output_type": "error",
     "traceback": [
      "\u001b[0;31m---------------------------------------------------------------------------\u001b[0m",
      "\u001b[0;31mNameError\u001b[0m                                 Traceback (most recent call last)",
      "\u001b[0;32m<ipython-input-9-8d0f5cc62f31>\u001b[0m in \u001b[0;36m<module>\u001b[0;34m()\u001b[0m\n\u001b[1;32m     17\u001b[0m \u001b[0;34m\u001b[0m\u001b[0m\n\u001b[1;32m     18\u001b[0m     \u001b[0;32mreturn\u001b[0m \u001b[0mSeats_no_occupied_array\u001b[0m\u001b[0;34m\u001b[0m\u001b[0m\n\u001b[0;32m---> 19\u001b[0;31m \u001b[0mSeats_final_occupied_array\u001b[0m\u001b[0;34m=\u001b[0m\u001b[0mplace_bookings\u001b[0m\u001b[0;34m(\u001b[0m\u001b[0;34m)\u001b[0m\u001b[0;34m\u001b[0m\u001b[0m\n\u001b[0m\u001b[1;32m     20\u001b[0m \u001b[0mprint\u001b[0m\u001b[0;34m(\u001b[0m\u001b[0mSeats_final_occupied_array\u001b[0m\u001b[0;34m)\u001b[0m\u001b[0;34m\u001b[0m\u001b[0m\n",
      "\u001b[0;32m<ipython-input-9-8d0f5cc62f31>\u001b[0m in \u001b[0;36mplace_bookings\u001b[0;34m()\u001b[0m\n\u001b[1;32m     14\u001b[0m         \u001b[0;31m#print(Max_rows_seating)\u001b[0m\u001b[0;34m\u001b[0m\u001b[0;34m\u001b[0m\u001b[0m\n\u001b[1;32m     15\u001b[0m         \u001b[0;32mif\u001b[0m \u001b[0mcounter\u001b[0m\u001b[0;34m+\u001b[0m\u001b[0mcnt_book\u001b[0m\u001b[0;34m<=\u001b[0m\u001b[0mMax_rows_seating\u001b[0m \u001b[0;34m:\u001b[0m\u001b[0;34m\u001b[0m\u001b[0m\n\u001b[0;32m---> 16\u001b[0;31m              \u001b[0mupdate_tables\u001b[0m\u001b[0;34m(\u001b[0m\u001b[0mcnt_book\u001b[0m\u001b[0;34m,\u001b[0m\u001b[0mcnt_name_passenger\u001b[0m\u001b[0;34m,\u001b[0m\u001b[0mcounter\u001b[0m\u001b[0;34m)\u001b[0m\u001b[0;34m\u001b[0m\u001b[0m\n\u001b[0m\u001b[1;32m     17\u001b[0m \u001b[0;34m\u001b[0m\u001b[0m\n\u001b[1;32m     18\u001b[0m     \u001b[0;32mreturn\u001b[0m \u001b[0mSeats_no_occupied_array\u001b[0m\u001b[0;34m\u001b[0m\u001b[0m\n",
      "\u001b[0;32m<ipython-input-8-4826fdb1552f>\u001b[0m in \u001b[0;36mupdate_tables\u001b[0;34m(cnt_book, cnt_name_passenger, counter)\u001b[0m\n\u001b[1;32m      3\u001b[0m     \u001b[0mdata\u001b[0m \u001b[0;34m=\u001b[0m \u001b[0mcur\u001b[0m\u001b[0;34m.\u001b[0m\u001b[0mexecute\u001b[0m\u001b[0;34m(\u001b[0m\u001b[0;34m'''SELECT * From seating'''\u001b[0m\u001b[0;34m)\u001b[0m\u001b[0;34m\u001b[0m\u001b[0m\n\u001b[1;32m      4\u001b[0m     \u001b[0mdata\u001b[0m\u001b[0;34m=\u001b[0m\u001b[0mdata\u001b[0m\u001b[0;34m.\u001b[0m\u001b[0mfetchall\u001b[0m\u001b[0;34m(\u001b[0m\u001b[0;34m)\u001b[0m\u001b[0;34m\u001b[0m\u001b[0m\n\u001b[0;32m----> 5\u001b[0;31m     \u001b[0;32mfor\u001b[0m \u001b[0mj\u001b[0m \u001b[0;32min\u001b[0m \u001b[0mxrange\u001b[0m\u001b[0;34m(\u001b[0m\u001b[0mcounter\u001b[0m\u001b[0;34m,\u001b[0m\u001b[0mcounter\u001b[0m\u001b[0;34m+\u001b[0m\u001b[0mcnt_book\u001b[0m\u001b[0;34m,\u001b[0m\u001b[0;36m1\u001b[0m\u001b[0;34m)\u001b[0m\u001b[0;34m:\u001b[0m\u001b[0;34m\u001b[0m\u001b[0m\n\u001b[0m\u001b[1;32m      6\u001b[0m           \u001b[0;32mif\u001b[0m \u001b[0mSeats_no_occupied_array\u001b[0m\u001b[0;34m[\u001b[0m\u001b[0mj\u001b[0m\u001b[0;34m]\u001b[0m\u001b[0;34m[\u001b[0m\u001b[0;36m2\u001b[0m\u001b[0;34m]\u001b[0m\u001b[0;34m==\u001b[0m\u001b[0;34m\"\"\u001b[0m\u001b[0;34m:\u001b[0m\u001b[0;34m\u001b[0m\u001b[0m\n\u001b[1;32m      7\u001b[0m                 \u001b[0mSeats_no_occupied_array\u001b[0m\u001b[0;34m[\u001b[0m\u001b[0mj\u001b[0m\u001b[0;34m]\u001b[0m\u001b[0;34m[\u001b[0m\u001b[0;36m2\u001b[0m\u001b[0;34m]\u001b[0m\u001b[0;34m=\u001b[0m\u001b[0mcnt_name_passenger\u001b[0m\u001b[0;34m\u001b[0m\u001b[0m\n",
      "\u001b[0;31mNameError\u001b[0m: name 'xrange' is not defined"
     ]
    }
   ],
   "source": [
    "def place_bookings():\n",
    "    counter=0\n",
    "    \n",
    "    for i in range(total_bookings_array.shape[0]):\n",
    "        cnt_book=total_bookings_array[i][1]\n",
    "        cnt_name_passenger=total_bookings_array[i][0]\n",
    "        if i==0:\n",
    "            counter=0\n",
    "        if i!=0:\n",
    "            counter=counter +total_bookings_array[i-1][1]\n",
    "             \n",
    "   \n",
    "        Max_rows_seating =Seats_no_occupied_array.shape[0]\n",
    "        #print(Max_rows_seating)\n",
    "        if counter+cnt_book<=Max_rows_seating :\n",
    "             update_tables(cnt_book,cnt_name_passenger,counter)\n",
    "                \n",
    "    return Seats_no_occupied_array    \n",
    "Seats_final_occupied_array=place_bookings()\n",
    "print(Seats_final_occupied_array)"
   ]
  },
  {
   "cell_type": "code",
   "execution_count": null,
   "metadata": {
    "collapsed": false
   },
   "outputs": [],
   "source": [
    "for row in cur.execute('select * from seating'):\n",
    "    print(row)"
   ]
  },
  {
   "cell_type": "code",
   "execution_count": null,
   "metadata": {
    "collapsed": true
   },
   "outputs": [],
   "source": []
  }
 ],
 "metadata": {
  "anaconda-cloud": {},
  "kernelspec": {
   "display_name": "Python [conda root]",
   "language": "python",
   "name": "conda-root-py"
  },
  "language_info": {
   "codemirror_mode": {
    "name": "ipython",
    "version": 3
   },
   "file_extension": ".py",
   "mimetype": "text/x-python",
   "name": "python",
   "nbconvert_exporter": "python",
   "pygments_lexer": "ipython3",
   "version": "3.5.2"
  }
 },
 "nbformat": 4,
 "nbformat_minor": 0
}
